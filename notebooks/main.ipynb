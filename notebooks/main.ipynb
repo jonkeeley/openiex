{
 "cells": [
  {
   "cell_type": "code",
   "execution_count": 33,
   "id": "7c9523f6",
   "metadata": {},
   "outputs": [
    {
     "name": "stdout",
     "output_type": "stream",
     "text": [
      "The autoreload extension is already loaded. To reload it, use:\n",
      "  %reload_ext autoreload\n"
     ]
    }
   ],
   "source": [
    "# enable auto‑reload so edits in src/ propagate immediately\n",
    "%load_ext autoreload\n",
    "%autoreload 2\n",
    "\n",
    "# now import everything in one line:\n",
    "from openiex import (\n",
    "    SystemConfig, Ion, Protein, ExchangeSystem,\n",
    "    Method, validate_method,\n",
    "    initialize_profiles, SimulationTracker,\n",
    "    method_duration, run_simulation, resume_simulation,\n",
    "    save_simulation, load_simulation, plot_profiles,\n",
    "    SimulationResult\n",
    ")"
   ]
  },
  {
   "cell_type": "code",
   "execution_count": 11,
   "id": "cf24bd30",
   "metadata": {},
   "outputs": [
    {
     "name": "stdout",
     "output_type": "stream",
     "text": [
      "All required equilibria are defined.\n"
     ]
    }
   ],
   "source": [
    "ions = {\n",
    "    \"Cl\": Ion(\"Cl\", D=1e-10, Kd=1.0),\n",
    "    \"Ac\": Ion(\"Ac\", D=1e-10, Kd=1.0)\n",
    "}\n",
    "\n",
    "proteins = {\n",
    "    \"em\": Protein(\"em\", D=5e-12, Kd=1.0, sigma=100, nu=5),\n",
    "    \"fu\": Protein(\"fu\", D=5e-12, Kd=1.0, sigma=100, nu=5)\n",
    "}\n",
    "\n",
    "config = SystemConfig(\n",
    "    bed_height=0.2,\n",
    "    column_radius=0.004,\n",
    "    Lambda=0.5,\n",
    "    epsilon_i=0.5,\n",
    "    epsilon_p=0.5,\n",
    "    Nz=30\n",
    ")\n",
    "\n",
    "system = ExchangeSystem(ions, proteins, config)\n",
    "species_list = list(system.species.keys())\n",
    "system.set_equilibrium(\"Cl\", \"Ac\", K_eq_val=2.0, k_ads_val=1.0)\n",
    "system.set_equilibrium(\"em\", \"Cl\", K_eq_val=5e3, k_ads_val=1e4)\n",
    "system.set_equilibrium(\"em\", \"Ac\", K_eq_val=5e-2, k_ads_val=1e3)\n",
    "system.set_equilibrium(\"fu\", \"Cl\", K_eq_val=1e4, k_ads_val=1e4)\n",
    "system.set_equilibrium(\"fu\", \"Ac\", K_eq_val=1e-1, k_ads_val=1e3)\n",
    "system.check_equilibria()"
   ]
  },
  {
   "cell_type": "code",
   "execution_count": 12,
   "id": "77840e45",
   "metadata": {},
   "outputs": [],
   "source": [
    "buffers = {\n",
    "    \"Load\": {\"Cl\": 0.04, \"Ac\": 0.0, \"em\": 0, \"fu\": 5e16},\n",
    "    \"A\": {\"Cl\": 0.04, \"Ac\": 0.0, \"em\": 0.0, \"fu\": 0.0},\n",
    "    \"B\": {\"Cl\": 0.04, \"Ac\": 0.3, \"em\": 0.0, \"fu\": 0.0},\n",
    "    \"Spike\": {\"Cl\": 1.0, \"Ac\": 0.0, \"em\": 0.0, \"fu\": 0.0},\n",
    "}\n",
    "\n",
    "# CV = total column volume with no interstitial void correction\n",
    "blocks = [\n",
    "    {\"buffer_A\": \"A\", \"buffer_B\": \"B\", \"start_B\": 0.0, \"end_B\": 0.0, \"duration_CV\": 1, \"flow_rate_mL_min\": 2.7},\n",
    "    {\"buffer_A\": \"Spike\", \"buffer_B\": \"B\", \"start_B\": 0.0, \"end_B\": 0.0, \"duration_CV\": 0.02, \"flow_rate_mL_min\": 2.7},\n",
    "    {\"buffer_A\": \"A\", \"buffer_B\": \"B\", \"start_B\": 0.0, \"end_B\": 0.0, \"duration_CV\": 2, \"flow_rate_mL_min\": 2.7},\n",
    "]\n",
    "\n",
    "method = Method(buffers, blocks)\n",
    "\n",
    "validate_method(method, system)"
   ]
  },
  {
   "cell_type": "code",
   "execution_count": null,
   "id": "bd7fdd22",
   "metadata": {},
   "outputs": [
    {
     "data": {
      "application/vnd.jupyter.widget-view+json": {
       "model_id": "6fa525f5639f49f08b84092d490ee6e0",
       "version_major": 2,
       "version_minor": 0
      },
      "text/plain": [
       "Simulating:   0%|          | 0/674.5395677373806 [00:00<?, ?s/s]"
      ]
     },
     "metadata": {},
     "output_type": "display_data"
    }
   ],
   "source": [
    "import numpy as np\n",
    "\n",
    "initial_conditions = {\n",
    "    \"Cl\": {\"C\": 0.04, \"Q\": system.config.Lambda},\n",
    "}\n",
    "y0 = initialize_profiles(initial_conditions, system)\n",
    "t_final = method_duration(method, system)\n",
    "t_eval = np.linspace(0, t_final, 100)\n",
    "\n",
    "res2: SimulationResult = run_simulation(\n",
    "    y0, t_eval, method, system, \n",
    "    integrator='BDF', \n",
    "    rtol=1e-3,\n",
    "    atol=1e-5,\n",
    "    max_step=0.1\n",
    ")\n",
    "save_simulation(\"results/run2\", res2)"
   ]
  },
  {
   "cell_type": "code",
   "execution_count": 31,
   "id": "975c2980",
   "metadata": {},
   "outputs": [],
   "source": [
    "res2: SimulationResult = load_simulation(\"results/run2\")"
   ]
  },
  {
   "cell_type": "code",
   "execution_count": 34,
   "id": "da0e34e7",
   "metadata": {},
   "outputs": [
    {
     "ename": "TypeError",
     "evalue": "resume_simulation() missing 5 required positional arguments: 'y_old', 'method_old', 'method_new', 'start_time', and 't_rel'",
     "output_type": "error",
     "traceback": [
      "\u001b[1;31m---------------------------------------------------------------------------\u001b[0m",
      "\u001b[1;31mTypeError\u001b[0m                                 Traceback (most recent call last)",
      "Cell \u001b[1;32mIn[34], line 2\u001b[0m\n\u001b[0;32m      1\u001b[0m \u001b[38;5;66;03m# 2) Resume with a new method2\u001b[39;00m\n\u001b[1;32m----> 2\u001b[0m res3: SimulationResult \u001b[38;5;241m=\u001b[39m \u001b[43mresume_simulation\u001b[49m\u001b[43m(\u001b[49m\n\u001b[0;32m      3\u001b[0m \u001b[43m    \u001b[49m\u001b[43mres2\u001b[49m\u001b[43m,\u001b[49m\n\u001b[0;32m      4\u001b[0m \u001b[43m    \u001b[49m\u001b[43mt_eval\u001b[49m\u001b[43m \u001b[49m\u001b[38;5;241;43m=\u001b[39;49m\u001b[43m \u001b[49m\u001b[43mnp\u001b[49m\u001b[38;5;241;43m.\u001b[39;49m\u001b[43mlinspace\u001b[49m\u001b[43m(\u001b[49m\u001b[38;5;241;43m0\u001b[39;49m\u001b[43m,\u001b[49m\u001b[43m \u001b[49m\u001b[38;5;241;43m5\u001b[39;49m\u001b[43m,\u001b[49m\u001b[43m \u001b[49m\u001b[38;5;241;43m50\u001b[39;49m\u001b[43m)\u001b[49m\u001b[43m,\u001b[49m\n\u001b[0;32m      5\u001b[0m \u001b[43m    \u001b[49m\u001b[43mchromat_method\u001b[49m\u001b[43m \u001b[49m\u001b[38;5;241;43m=\u001b[39;49m\u001b[43m \u001b[49m\u001b[43mmethod\u001b[49m\u001b[43m,\u001b[49m\n\u001b[0;32m      6\u001b[0m \u001b[43m    \u001b[49m\u001b[43msystem\u001b[49m\u001b[43m \u001b[49m\u001b[38;5;241;43m=\u001b[39;49m\u001b[43m \u001b[49m\u001b[43msystem\u001b[49m\u001b[43m,\u001b[49m\n\u001b[0;32m      7\u001b[0m \u001b[43m    \u001b[49m\u001b[43mt_start\u001b[49m\u001b[43m \u001b[49m\u001b[38;5;241;43m=\u001b[39;49m\u001b[43m \u001b[49m\u001b[38;5;241;43m500\u001b[39;49m\u001b[43m,\u001b[49m\u001b[43m             \u001b[49m\u001b[38;5;66;43;03m# pick up at t=2.3 s\u001b[39;49;00m\n\u001b[0;32m      8\u001b[0m \u001b[43m    \u001b[49m\u001b[43mintegrator\u001b[49m\u001b[38;5;241;43m=\u001b[39;49m\u001b[38;5;124;43m'\u001b[39;49m\u001b[38;5;124;43mBDF\u001b[39;49m\u001b[38;5;124;43m'\u001b[39;49m\u001b[43m,\u001b[49m\n\u001b[0;32m      9\u001b[0m \u001b[43m    \u001b[49m\u001b[43mrtol\u001b[49m\u001b[38;5;241;43m=\u001b[39;49m\u001b[38;5;241;43m1e-3\u001b[39;49m\u001b[43m,\u001b[49m\u001b[43m \u001b[49m\u001b[43matol\u001b[49m\u001b[38;5;241;43m=\u001b[39;49m\u001b[38;5;241;43m1e-5\u001b[39;49m\n\u001b[0;32m     10\u001b[0m \u001b[43m)\u001b[49m\n\u001b[0;32m     11\u001b[0m save_simulation(\u001b[38;5;124m\"\u001b[39m\u001b[38;5;124mresults/run1_extended\u001b[39m\u001b[38;5;124m\"\u001b[39m, res3)\n",
      "\u001b[1;31mTypeError\u001b[0m: resume_simulation() missing 5 required positional arguments: 'y_old', 'method_old', 'method_new', 'start_time', and 't_rel'"
     ]
    }
   ],
   "source": [
    "# 2) Resume with a new method2\n",
    "res3: SimulationResult = resume_simulation(\n",
    "    res2,\n",
    "    t_eval = np.linspace(0, 5, 50),\n",
    "    chromat_method = method,\n",
    "    system = system,\n",
    "    t_start = 500,             # pick up at t=2.3 s\n",
    "    integrator='BDF',\n",
    "    rtol=1e-3, atol=1e-5\n",
    ")\n",
    "save_simulation(\"results/run1_extended\", res3)"
   ]
  },
  {
   "cell_type": "code",
   "execution_count": null,
   "id": "31b99e77",
   "metadata": {},
   "outputs": [],
   "source": []
  }
 ],
 "metadata": {
  "kernelspec": {
   "display_name": "Python 3",
   "language": "python",
   "name": "python3"
  },
  "language_info": {
   "codemirror_mode": {
    "name": "ipython",
    "version": 3
   },
   "file_extension": ".py",
   "mimetype": "text/x-python",
   "name": "python",
   "nbconvert_exporter": "python",
   "pygments_lexer": "ipython3",
   "version": "3.12.0"
  }
 },
 "nbformat": 4,
 "nbformat_minor": 5
}
