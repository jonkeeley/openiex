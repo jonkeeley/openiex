{
 "cells": [
  {
   "cell_type": "code",
   "execution_count": 3,
   "id": "7c9523f6",
   "metadata": {},
   "outputs": [
    {
     "name": "stdout",
     "output_type": "stream",
     "text": [
      "The autoreload extension is already loaded. To reload it, use:\n",
      "  %reload_ext autoreload\n"
     ]
    }
   ],
   "source": [
    "# enable auto‑reload so edits in src/ propagate immediately\n",
    "%load_ext autoreload\n",
    "%autoreload 2\n",
    "\n",
    "# now import everything in one line:\n",
    "from openiex import (\n",
    "    SystemConfig, Ion, Protein, ExchangeSystem,\n",
    "    Method, validate_method,\n",
    "    initialize_profiles, SimulationTracker,\n",
    "    method_duration, run_simulation,\n",
    "    save_simulation, load_simulation, plot_profiles\n",
    ")"
   ]
  },
  {
   "cell_type": "code",
   "execution_count": 6,
   "id": "cf24bd30",
   "metadata": {},
   "outputs": [
    {
     "name": "stdout",
     "output_type": "stream",
     "text": [
      "All required equilibria are defined.\n"
     ]
    }
   ],
   "source": [
    "ions = {\n",
    "    \"Cl\": Ion(\"Cl\", D=1e-10, Kd=1.0),\n",
    "    \"Ac\": Ion(\"Ac\", D=1e-10, Kd=1.0)\n",
    "}\n",
    "\n",
    "proteins = {\n",
    "    \"em\": Protein(\"em\", D=5e-12, Kd=1.0, sigma=100, nu=5),\n",
    "    \"fu\": Protein(\"fu\", D=5e-12, Kd=1.0, sigma=100, nu=5)\n",
    "}\n",
    "\n",
    "config = SystemConfig(\n",
    "    bed_height=0.2,\n",
    "    column_radius=0.004,\n",
    "    Lambda=0.5,\n",
    "    epsilon_i=0.5,\n",
    "    epsilon_p=0.5,\n",
    "    Nz=30\n",
    ")\n",
    "\n",
    "system = ExchangeSystem(ions, proteins, config)\n",
    "species_list = list(system.species.keys())\n",
    "system.set_equilibrium(\"Cl\", \"Ac\", K_eq_val=2.0, k_ads_val=1.0)\n",
    "system.set_equilibrium(\"em\", \"Cl\", K_eq_val=5e3, k_ads_val=1e4)\n",
    "system.set_equilibrium(\"em\", \"Ac\", K_eq_val=5e-2, k_ads_val=1e3)\n",
    "system.set_equilibrium(\"fu\", \"Cl\", K_eq_val=1e4, k_ads_val=1e4)\n",
    "system.set_equilibrium(\"fu\", \"Ac\", K_eq_val=1e-1, k_ads_val=1e3)\n",
    "system.check_equilibria()"
   ]
  },
  {
   "cell_type": "code",
   "execution_count": 7,
   "id": "77840e45",
   "metadata": {},
   "outputs": [],
   "source": [
    "buffers = {\n",
    "    \"Load\": {\"Cl\": 0.04, \"Ac\": 0.0, \"em\": 0, \"fu\": 5e16},\n",
    "    \"A\": {\"Cl\": 0.04, \"Ac\": 0.0, \"em\": 0.0, \"fu\": 0.0},\n",
    "    \"B\": {\"Cl\": 0.04, \"Ac\": 0.3, \"em\": 0.0, \"fu\": 0.0},\n",
    "    \"Spike\": {\"Cl\": 1.0, \"Ac\": 0.0, \"em\": 0.0, \"fu\": 0.0},\n",
    "}\n",
    "\n",
    "# CV = total column volume with no interstitial void correction\n",
    "blocks = [\n",
    "    {\"buffer_A\": \"A\", \"buffer_B\": \"B\", \"start_B\": 0.0, \"end_B\": 0.0, \"duration_CV\": 1, \"flow_rate_mL_min\": 2.7},\n",
    "    {\"buffer_A\": \"Spike\", \"buffer_B\": \"B\", \"start_B\": 0.0, \"end_B\": 0.0, \"duration_CV\": 0.02, \"flow_rate_mL_min\": 2.7},\n",
    "    {\"buffer_A\": \"A\", \"buffer_B\": \"B\", \"start_B\": 0.0, \"end_B\": 0.0, \"duration_CV\": 2, \"flow_rate_mL_min\": 2.7},\n",
    "]\n",
    "\n",
    "method = Method(buffers, blocks)\n",
    "\n",
    "validate_method(method, system)"
   ]
  },
  {
   "cell_type": "code",
   "execution_count": 9,
   "id": "bd7fdd22",
   "metadata": {},
   "outputs": [
    {
     "data": {
      "application/vnd.jupyter.widget-view+json": {
       "model_id": "af375d30cb8a41398989272e7fe305de",
       "version_major": 2,
       "version_minor": 0
      },
      "text/plain": [
       "Simulating:   0%|          | 0/674.5395677373806 [00:00<?, ?s/s]"
      ]
     },
     "metadata": {},
     "output_type": "display_data"
    },
    {
     "ename": "RuntimeError",
     "evalue": "Time 674.5395677373806 exceeded defined method blocks — simulation method incomplete?",
     "output_type": "error",
     "traceback": [
      "\u001b[1;31m---------------------------------------------------------------------------\u001b[0m",
      "\u001b[1;31mRuntimeError\u001b[0m                              Traceback (most recent call last)",
      "Cell \u001b[1;32mIn[9], line 10\u001b[0m\n\u001b[0;32m      7\u001b[0m t_final \u001b[38;5;241m=\u001b[39m method_duration(method, system)\n\u001b[0;32m      8\u001b[0m t_eval \u001b[38;5;241m=\u001b[39m np\u001b[38;5;241m.\u001b[39mlinspace(\u001b[38;5;241m0\u001b[39m, t_final, \u001b[38;5;241m100\u001b[39m)\n\u001b[1;32m---> 10\u001b[0m sol \u001b[38;5;241m=\u001b[39m \u001b[43mrun_simulation\u001b[49m\u001b[43m(\u001b[49m\n\u001b[0;32m     11\u001b[0m \u001b[43m    \u001b[49m\u001b[43mmethod\u001b[49m\u001b[43m,\u001b[49m\u001b[43m \u001b[49m\u001b[43msystem\u001b[49m\u001b[43m,\u001b[49m\u001b[43m \u001b[49m\u001b[43my0\u001b[49m\u001b[43m,\u001b[49m\u001b[43m \u001b[49m\u001b[43mt_eval\u001b[49m\u001b[43m,\u001b[49m\n\u001b[0;32m     12\u001b[0m \u001b[43m    \u001b[49m\u001b[43mintegrator\u001b[49m\u001b[38;5;241;43m=\u001b[39;49m\u001b[38;5;124;43m'\u001b[39;49m\u001b[38;5;124;43mBDF\u001b[39;49m\u001b[38;5;124;43m'\u001b[39;49m\u001b[43m,\u001b[49m\u001b[43m   \u001b[49m\u001b[38;5;66;43;03m# <-- no collision with `chromat_method`\u001b[39;49;00m\n\u001b[0;32m     13\u001b[0m \u001b[43m    \u001b[49m\u001b[43mrtol\u001b[49m\u001b[38;5;241;43m=\u001b[39;49m\u001b[38;5;241;43m1e-3\u001b[39;49m\u001b[43m,\u001b[49m\n\u001b[0;32m     14\u001b[0m \u001b[43m    \u001b[49m\u001b[43matol\u001b[49m\u001b[38;5;241;43m=\u001b[39;49m\u001b[38;5;241;43m1e-5\u001b[39;49m\u001b[43m,\u001b[49m\n\u001b[0;32m     15\u001b[0m \u001b[43m    \u001b[49m\u001b[43mmax_step\u001b[49m\u001b[38;5;241;43m=\u001b[39;49m\u001b[38;5;241;43m0.1\u001b[39;49m\n\u001b[0;32m     16\u001b[0m \u001b[43m)\u001b[49m\n",
      "File \u001b[1;32m~\\Documents\\openiex\\src\\openiex\\solver.py:78\u001b[0m, in \u001b[0;36mrun_simulation\u001b[1;34m(chromat_method, system, y0, t_eval, integrator, **ivp_kwargs)\u001b[0m\n\u001b[0;32m     63\u001b[0m \u001b[38;5;250m\u001b[39m\u001b[38;5;124;03m\"\"\"\u001b[39;00m\n\u001b[0;32m     64\u001b[0m \u001b[38;5;124;03mHigh‑level helper: wraps ODEFunction + solve_ivp + progress bar.\u001b[39;00m\n\u001b[0;32m     65\u001b[0m \u001b[38;5;124;03m\u001b[39;00m\n\u001b[1;32m   (...)\u001b[0m\n\u001b[0;32m     74\u001b[0m \u001b[38;5;124;03mReturns the SolveResult with .t, .y, .nfev, etc.\u001b[39;00m\n\u001b[0;32m     75\u001b[0m \u001b[38;5;124;03m\"\"\"\u001b[39;00m\n\u001b[0;32m     76\u001b[0m ode_fn \u001b[38;5;241m=\u001b[39m ODEFunction(chromat_method, system)\n\u001b[1;32m---> 78\u001b[0m sol \u001b[38;5;241m=\u001b[39m \u001b[43msolve_ivp\u001b[49m\u001b[43m(\u001b[49m\n\u001b[0;32m     79\u001b[0m \u001b[43m    \u001b[49m\u001b[43mfun\u001b[49m\u001b[38;5;241;43m=\u001b[39;49m\u001b[43mode_fn\u001b[49m\u001b[43m,\u001b[49m\n\u001b[0;32m     80\u001b[0m \u001b[43m    \u001b[49m\u001b[43mt_span\u001b[49m\u001b[38;5;241;43m=\u001b[39;49m\u001b[43m(\u001b[49m\u001b[43mt_eval\u001b[49m\u001b[43m[\u001b[49m\u001b[38;5;241;43m0\u001b[39;49m\u001b[43m]\u001b[49m\u001b[43m,\u001b[49m\u001b[43m \u001b[49m\u001b[43mt_eval\u001b[49m\u001b[43m[\u001b[49m\u001b[38;5;241;43m-\u001b[39;49m\u001b[38;5;241;43m1\u001b[39;49m\u001b[43m]\u001b[49m\u001b[43m)\u001b[49m\u001b[43m,\u001b[49m\n\u001b[0;32m     81\u001b[0m \u001b[43m    \u001b[49m\u001b[43my0\u001b[49m\u001b[38;5;241;43m=\u001b[39;49m\u001b[43my0\u001b[49m\u001b[43m,\u001b[49m\n\u001b[0;32m     82\u001b[0m \u001b[43m    \u001b[49m\u001b[43mt_eval\u001b[49m\u001b[38;5;241;43m=\u001b[39;49m\u001b[43mt_eval\u001b[49m\u001b[43m,\u001b[49m\n\u001b[0;32m     83\u001b[0m \u001b[43m    \u001b[49m\u001b[43mmethod\u001b[49m\u001b[38;5;241;43m=\u001b[39;49m\u001b[43mintegrator\u001b[49m\u001b[43m,\u001b[49m\n\u001b[0;32m     84\u001b[0m \u001b[43m    \u001b[49m\u001b[38;5;241;43m*\u001b[39;49m\u001b[38;5;241;43m*\u001b[39;49m\u001b[43mivp_kwargs\u001b[49m\n\u001b[0;32m     85\u001b[0m \u001b[43m\u001b[49m\u001b[43m)\u001b[49m\n\u001b[0;32m     87\u001b[0m ode_fn\u001b[38;5;241m.\u001b[39mclose()\n\u001b[0;32m     88\u001b[0m \u001b[38;5;28;01mreturn\u001b[39;00m sol\n",
      "File \u001b[1;32mc:\\Program Files\\Python312\\Lib\\site-packages\\scipy\\integrate\\_ivp\\ivp.py:655\u001b[0m, in \u001b[0;36msolve_ivp\u001b[1;34m(fun, t_span, y0, method, t_eval, dense_output, events, vectorized, args, **options)\u001b[0m\n\u001b[0;32m    653\u001b[0m status \u001b[38;5;241m=\u001b[39m \u001b[38;5;28;01mNone\u001b[39;00m\n\u001b[0;32m    654\u001b[0m \u001b[38;5;28;01mwhile\u001b[39;00m status \u001b[38;5;129;01mis\u001b[39;00m \u001b[38;5;28;01mNone\u001b[39;00m:\n\u001b[1;32m--> 655\u001b[0m     message \u001b[38;5;241m=\u001b[39m \u001b[43msolver\u001b[49m\u001b[38;5;241;43m.\u001b[39;49m\u001b[43mstep\u001b[49m\u001b[43m(\u001b[49m\u001b[43m)\u001b[49m\n\u001b[0;32m    657\u001b[0m     \u001b[38;5;28;01mif\u001b[39;00m solver\u001b[38;5;241m.\u001b[39mstatus \u001b[38;5;241m==\u001b[39m \u001b[38;5;124m'\u001b[39m\u001b[38;5;124mfinished\u001b[39m\u001b[38;5;124m'\u001b[39m:\n\u001b[0;32m    658\u001b[0m         status \u001b[38;5;241m=\u001b[39m \u001b[38;5;241m0\u001b[39m\n",
      "File \u001b[1;32mc:\\Program Files\\Python312\\Lib\\site-packages\\scipy\\integrate\\_ivp\\base.py:197\u001b[0m, in \u001b[0;36mOdeSolver.step\u001b[1;34m(self)\u001b[0m\n\u001b[0;32m    195\u001b[0m \u001b[38;5;28;01melse\u001b[39;00m:\n\u001b[0;32m    196\u001b[0m     t \u001b[38;5;241m=\u001b[39m \u001b[38;5;28mself\u001b[39m\u001b[38;5;241m.\u001b[39mt\n\u001b[1;32m--> 197\u001b[0m     success, message \u001b[38;5;241m=\u001b[39m \u001b[38;5;28;43mself\u001b[39;49m\u001b[38;5;241;43m.\u001b[39;49m\u001b[43m_step_impl\u001b[49m\u001b[43m(\u001b[49m\u001b[43m)\u001b[49m\n\u001b[0;32m    199\u001b[0m     \u001b[38;5;28;01mif\u001b[39;00m \u001b[38;5;129;01mnot\u001b[39;00m success:\n\u001b[0;32m    200\u001b[0m         \u001b[38;5;28mself\u001b[39m\u001b[38;5;241m.\u001b[39mstatus \u001b[38;5;241m=\u001b[39m \u001b[38;5;124m'\u001b[39m\u001b[38;5;124mfailed\u001b[39m\u001b[38;5;124m'\u001b[39m\n",
      "File \u001b[1;32mc:\\Program Files\\Python312\\Lib\\site-packages\\scipy\\integrate\\_ivp\\bdf.py:365\u001b[0m, in \u001b[0;36mBDF._step_impl\u001b[1;34m(self)\u001b[0m\n\u001b[0;32m    362\u001b[0m \u001b[38;5;28;01mif\u001b[39;00m LU \u001b[38;5;129;01mis\u001b[39;00m \u001b[38;5;28;01mNone\u001b[39;00m:\n\u001b[0;32m    363\u001b[0m     LU \u001b[38;5;241m=\u001b[39m \u001b[38;5;28mself\u001b[39m\u001b[38;5;241m.\u001b[39mlu(\u001b[38;5;28mself\u001b[39m\u001b[38;5;241m.\u001b[39mI \u001b[38;5;241m-\u001b[39m c \u001b[38;5;241m*\u001b[39m J)\n\u001b[1;32m--> 365\u001b[0m converged, n_iter, y_new, d \u001b[38;5;241m=\u001b[39m \u001b[43msolve_bdf_system\u001b[49m\u001b[43m(\u001b[49m\n\u001b[0;32m    366\u001b[0m \u001b[43m    \u001b[49m\u001b[38;5;28;43mself\u001b[39;49m\u001b[38;5;241;43m.\u001b[39;49m\u001b[43mfun\u001b[49m\u001b[43m,\u001b[49m\u001b[43m \u001b[49m\u001b[43mt_new\u001b[49m\u001b[43m,\u001b[49m\u001b[43m \u001b[49m\u001b[43my_predict\u001b[49m\u001b[43m,\u001b[49m\u001b[43m \u001b[49m\u001b[43mc\u001b[49m\u001b[43m,\u001b[49m\u001b[43m \u001b[49m\u001b[43mpsi\u001b[49m\u001b[43m,\u001b[49m\u001b[43m \u001b[49m\u001b[43mLU\u001b[49m\u001b[43m,\u001b[49m\u001b[43m \u001b[49m\u001b[38;5;28;43mself\u001b[39;49m\u001b[38;5;241;43m.\u001b[39;49m\u001b[43msolve_lu\u001b[49m\u001b[43m,\u001b[49m\n\u001b[0;32m    367\u001b[0m \u001b[43m    \u001b[49m\u001b[43mscale\u001b[49m\u001b[43m,\u001b[49m\u001b[43m \u001b[49m\u001b[38;5;28;43mself\u001b[39;49m\u001b[38;5;241;43m.\u001b[39;49m\u001b[43mnewton_tol\u001b[49m\u001b[43m)\u001b[49m\n\u001b[0;32m    369\u001b[0m \u001b[38;5;28;01mif\u001b[39;00m \u001b[38;5;129;01mnot\u001b[39;00m converged:\n\u001b[0;32m    370\u001b[0m     \u001b[38;5;28;01mif\u001b[39;00m current_jac:\n",
      "File \u001b[1;32mc:\\Program Files\\Python312\\Lib\\site-packages\\scipy\\integrate\\_ivp\\bdf.py:43\u001b[0m, in \u001b[0;36msolve_bdf_system\u001b[1;34m(fun, t_new, y_predict, c, psi, LU, solve_lu, scale, tol)\u001b[0m\n\u001b[0;32m     41\u001b[0m converged \u001b[38;5;241m=\u001b[39m \u001b[38;5;28;01mFalse\u001b[39;00m\n\u001b[0;32m     42\u001b[0m \u001b[38;5;28;01mfor\u001b[39;00m k \u001b[38;5;129;01min\u001b[39;00m \u001b[38;5;28mrange\u001b[39m(NEWTON_MAXITER):\n\u001b[1;32m---> 43\u001b[0m     f \u001b[38;5;241m=\u001b[39m \u001b[43mfun\u001b[49m\u001b[43m(\u001b[49m\u001b[43mt_new\u001b[49m\u001b[43m,\u001b[49m\u001b[43m \u001b[49m\u001b[43my\u001b[49m\u001b[43m)\u001b[49m\n\u001b[0;32m     44\u001b[0m     \u001b[38;5;28;01mif\u001b[39;00m \u001b[38;5;129;01mnot\u001b[39;00m np\u001b[38;5;241m.\u001b[39mall(np\u001b[38;5;241m.\u001b[39misfinite(f)):\n\u001b[0;32m     45\u001b[0m         \u001b[38;5;28;01mbreak\u001b[39;00m\n",
      "File \u001b[1;32mc:\\Program Files\\Python312\\Lib\\site-packages\\scipy\\integrate\\_ivp\\base.py:154\u001b[0m, in \u001b[0;36mOdeSolver.__init__.<locals>.fun\u001b[1;34m(t, y)\u001b[0m\n\u001b[0;32m    152\u001b[0m \u001b[38;5;28;01mdef\u001b[39;00m \u001b[38;5;21mfun\u001b[39m(t, y):\n\u001b[0;32m    153\u001b[0m     \u001b[38;5;28mself\u001b[39m\u001b[38;5;241m.\u001b[39mnfev \u001b[38;5;241m+\u001b[39m\u001b[38;5;241m=\u001b[39m \u001b[38;5;241m1\u001b[39m\n\u001b[1;32m--> 154\u001b[0m     \u001b[38;5;28;01mreturn\u001b[39;00m \u001b[38;5;28;43mself\u001b[39;49m\u001b[38;5;241;43m.\u001b[39;49m\u001b[43mfun_single\u001b[49m\u001b[43m(\u001b[49m\u001b[43mt\u001b[49m\u001b[43m,\u001b[49m\u001b[43m \u001b[49m\u001b[43my\u001b[49m\u001b[43m)\u001b[49m\n",
      "File \u001b[1;32mc:\\Program Files\\Python312\\Lib\\site-packages\\scipy\\integrate\\_ivp\\base.py:23\u001b[0m, in \u001b[0;36mcheck_arguments.<locals>.fun_wrapped\u001b[1;34m(t, y)\u001b[0m\n\u001b[0;32m     22\u001b[0m \u001b[38;5;28;01mdef\u001b[39;00m \u001b[38;5;21mfun_wrapped\u001b[39m(t, y):\n\u001b[1;32m---> 23\u001b[0m     \u001b[38;5;28;01mreturn\u001b[39;00m np\u001b[38;5;241m.\u001b[39masarray(\u001b[43mfun\u001b[49m\u001b[43m(\u001b[49m\u001b[43mt\u001b[49m\u001b[43m,\u001b[49m\u001b[43m \u001b[49m\u001b[43my\u001b[49m\u001b[43m)\u001b[49m, dtype\u001b[38;5;241m=\u001b[39mdtype)\n",
      "File \u001b[1;32m~\\Documents\\openiex\\src\\openiex\\solver.py:45\u001b[0m, in \u001b[0;36mODEFunction.__call__\u001b[1;34m(self, t, y)\u001b[0m\n\u001b[0;32m     42\u001b[0m \u001b[38;5;28mself\u001b[39m\u001b[38;5;241m.\u001b[39mtracker\u001b[38;5;241m.\u001b[39mupdate(t)\n\u001b[0;32m     44\u001b[0m C, Q    \u001b[38;5;241m=\u001b[39m unpack_state(y, \u001b[38;5;28mself\u001b[39m\u001b[38;5;241m.\u001b[39msystem)\n\u001b[1;32m---> 45\u001b[0m feed    \u001b[38;5;241m=\u001b[39m \u001b[43mget_feed\u001b[49m\u001b[43m(\u001b[49m\u001b[43mt\u001b[49m\u001b[43m,\u001b[49m\u001b[43m \u001b[49m\u001b[38;5;28;43mself\u001b[39;49m\u001b[38;5;241;43m.\u001b[39;49m\u001b[43mmethod\u001b[49m\u001b[43m,\u001b[49m\u001b[43m \u001b[49m\u001b[38;5;28;43mself\u001b[39;49m\u001b[38;5;241;43m.\u001b[39;49m\u001b[43msystem\u001b[49m\u001b[43m)\u001b[49m\n\u001b[0;32m     46\u001b[0m Qbar    \u001b[38;5;241m=\u001b[39m calc_Qbar(Q, \u001b[38;5;28mself\u001b[39m\u001b[38;5;241m.\u001b[39msystem)\n\u001b[0;32m     47\u001b[0m dQdt    \u001b[38;5;241m=\u001b[39m calc_dQdt(C, Q, Qbar, feed, \u001b[38;5;28mself\u001b[39m\u001b[38;5;241m.\u001b[39msystem)\n",
      "File \u001b[1;32m~\\Documents\\openiex\\src\\openiex\\method.py:90\u001b[0m, in \u001b[0;36mget_feed\u001b[1;34m(t, method, system)\u001b[0m\n\u001b[0;32m     88\u001b[0m         \u001b[38;5;28;01mreturn\u001b[39;00m convert_units(composition, system, direction\u001b[38;5;241m=\u001b[39m\u001b[38;5;124m\"\u001b[39m\u001b[38;5;124mto_M\u001b[39m\u001b[38;5;124m\"\u001b[39m), flow_rate_m3_s\n\u001b[0;32m     89\u001b[0m     block_start \u001b[38;5;241m=\u001b[39m block_end\n\u001b[1;32m---> 90\u001b[0m \u001b[38;5;28;01mraise\u001b[39;00m \u001b[38;5;167;01mRuntimeError\u001b[39;00m(\u001b[38;5;124mf\u001b[39m\u001b[38;5;124m\"\u001b[39m\u001b[38;5;124mTime \u001b[39m\u001b[38;5;132;01m{\u001b[39;00mt\u001b[38;5;132;01m}\u001b[39;00m\u001b[38;5;124m exceeded defined method blocks — simulation method incomplete?\u001b[39m\u001b[38;5;124m\"\u001b[39m)\n",
      "\u001b[1;31mRuntimeError\u001b[0m: Time 674.5395677373806 exceeded defined method blocks — simulation method incomplete?"
     ]
    }
   ],
   "source": [
    "import numpy as np\n",
    "\n",
    "initial_conditions = {\n",
    "    \"Cl\": {\"C\": 0.04, \"Q\": system.config.Lambda},\n",
    "}\n",
    "y0 = initialize_profiles(initial_conditions, system)\n",
    "t_final = method_duration(method, system)\n",
    "t_eval = np.linspace(0, t_final, 100)\n",
    "\n",
    "sol = run_simulation(\n",
    "    method, system, y0, t_eval,\n",
    "    integrator='BDF',   # <-- no collision with `chromat_method`\n",
    "    rtol=1e-3,\n",
    "    atol=1e-5,\n",
    "    max_step=0.1\n",
    ")"
   ]
  },
  {
   "cell_type": "code",
   "execution_count": null,
   "id": "da0e34e7",
   "metadata": {},
   "outputs": [],
   "source": []
  }
 ],
 "metadata": {
  "kernelspec": {
   "display_name": "Python 3",
   "language": "python",
   "name": "python3"
  },
  "language_info": {
   "codemirror_mode": {
    "name": "ipython",
    "version": 3
   },
   "file_extension": ".py",
   "mimetype": "text/x-python",
   "name": "python",
   "nbconvert_exporter": "python",
   "pygments_lexer": "ipython3",
   "version": "3.12.0"
  }
 },
 "nbformat": 4,
 "nbformat_minor": 5
}
